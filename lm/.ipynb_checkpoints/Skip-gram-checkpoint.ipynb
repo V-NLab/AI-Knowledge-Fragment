{
 "cells": [
  {
   "cell_type": "markdown",
   "id": "7cae85fe",
   "metadata": {},
   "source": [
    "Paper link\n",
    "\n",
    "Efficient Estimation of Word Representations in Vector Space\n",
    "- https://arxiv.org/pdf/1301.3781.pdf\n",
    "\n",
    "\n",
    "Distributed Representations of Words and Phrases and their Compositionality\n",
    "- https://arxiv.org/pdf/1310.4546.pdf"
   ]
  },
  {
   "cell_type": "markdown",
   "id": "6ac65f57",
   "metadata": {},
   "source": [
    "- CBOW 및 Skip-gram 등장 이전\n",
    " - N-gram 방식의 통계적 language modeling이 사용되었음. \n",
    " - 근래엔, 뉴럴넷 기반으로 더 많은 데이터를 학습한 복잡한 모델이 좋은 성능을 보여줌.\n",
    "\n",
    "- CBOW, Skip-gram 이전의 한계\n",
    " - 억단위 단어들을 학습하는데 단어 벡터의 차원이 50 -100 이상으로 표현되지 않았음. \n",
    "\n",
    "- CBOW, Skip-gram의 목적\n",
    " - 거대한 데이터 세트로부터 high-quality의 단어 벡터 표현을 얻기 위함.\n",
    "\n",
    "- CBOW, Skip-gram의 의의\n",
    " - 학습한 단어 벡터 표현이 유사한 단어들끼리 서로 근처에 있는 현상, 여러 차수가 비슷한 현상이 발생. \n",
    " - 단어 벡터 표현들끼리 단순 문법적 규칙성 이외에도 산술 연산이 존재하는 것 또한 발견함."
   ]
  },
  {
   "cell_type": "code",
   "execution_count": null,
   "id": "56f850d6",
   "metadata": {},
   "outputs": [],
   "source": []
  },
  {
   "cell_type": "code",
   "execution_count": null,
   "id": "ec6483d0",
   "metadata": {},
   "outputs": [],
   "source": []
  }
 ],
 "metadata": {
  "kernelspec": {
   "display_name": "Python 3",
   "language": "python",
   "name": "python3"
  },
  "language_info": {
   "codemirror_mode": {
    "name": "ipython",
    "version": 3
   },
   "file_extension": ".py",
   "mimetype": "text/x-python",
   "name": "python",
   "nbconvert_exporter": "python",
   "pygments_lexer": "ipython3",
   "version": "3.8.8"
  }
 },
 "nbformat": 4,
 "nbformat_minor": 5
}
